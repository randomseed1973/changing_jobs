{
 "cells": [
  {
   "cell_type": "code",
   "execution_count": null,
   "metadata": {},
   "outputs": [],
   "source": [
    "import pandas as pd\n",
    "import numpy as np\n",
    "# from matplotlib import pyplot as plt\n",
    "import time\n",
    "from datetime import datetime"
   ]
  },
  {
   "cell_type": "code",
   "execution_count": null,
   "metadata": {},
   "outputs": [],
   "source": []
  },
  {
   "cell_type": "markdown",
   "metadata": {},
   "source": [
    "転職用データ読み込み"
   ]
  },
  {
   "cell_type": "code",
   "execution_count": null,
   "metadata": {},
   "outputs": [],
   "source": [
    "df = pd.read_csv('df_original.csv',encoding='utf-8',dtype={'レンタル区分': str, '展覧会名': str ,'委託商品区分': str})\n",
    "df.head()"
   ]
  },
  {
   "cell_type": "code",
   "execution_count": null,
   "metadata": {},
   "outputs": [],
   "source": [
    "df.shape"
   ]
  },
  {
   "cell_type": "code",
   "execution_count": null,
   "metadata": {
    "scrolled": true
   },
   "outputs": [],
   "source": [
    "df = df[['営業名', '得意先', '出荷日', '伝票№', '素材名', '製品名', '受注金額', '重量']].copy()\n",
    "\n",
    "df = df.rename(columns={'得意先':'得意先名','受注金額':'売上金額'})\n",
    "\n",
    "df [\"営業名\"] = df[\"営業名\"] .apply(lambda x: x.split(\" / \")[0])\n",
    "\n",
    "# 日付フォーマットに変換\n",
    "time = df[\"出荷日\"]\n",
    "time2 = pd.to_datetime(time, format='%Y%m%d')\n",
    "time3 = time2.dt.year\n",
    "df[\"year\"] = time3\n",
    "\n",
    "# 不要金額削除\n",
    "df = df[df['伝票№'] != 2101624]\n",
    "df = df[df['伝票№'] != 2101621]\n",
    "df.tail(30) "
   ]
  },
  {
   "cell_type": "code",
   "execution_count": null,
   "metadata": {},
   "outputs": [],
   "source": [
    "df.shape"
   ]
  },
  {
   "cell_type": "code",
   "execution_count": null,
   "metadata": {},
   "outputs": [],
   "source": []
  },
  {
   "cell_type": "markdown",
   "metadata": {},
   "source": [
    "生産地分類"
   ]
  },
  {
   "cell_type": "code",
   "execution_count": null,
   "metadata": {},
   "outputs": [],
   "source": [
    "# 最新生産地データ読み込み\n",
    "produce = pd.read_csv('./map_csv/' + 'produce.csv', encoding='utf-8')\n",
    "\n",
    "# 最新生産地分類を辞書型に変換\n",
    "produce_f = dict(zip(produce['0'], produce['1']))\n",
    "      \n",
    "# 新型式分類\n",
    "df['生産地'] = df['製品名'].map(produce_f)"
   ]
  },
  {
   "cell_type": "code",
   "execution_count": null,
   "metadata": {
    "scrolled": true
   },
   "outputs": [],
   "source": [
    "df.head()"
   ]
  },
  {
   "cell_type": "markdown",
   "metadata": {},
   "source": [
    "営業所分類"
   ]
  },
  {
   "cell_type": "code",
   "execution_count": null,
   "metadata": {},
   "outputs": [],
   "source": [
    "# 最新営業所データ読み込み\n",
    "branch = pd.read_csv('./map_csv/' + 'branch.csv', encoding='utf-8')\n",
    "\n",
    "# 最新営業所分類を辞書型に変換\n",
    "branch_f = dict(zip(branch['担当営業'], branch['営業所']))\n",
    "\n",
    "# 新営業所分類\n",
    "df['営業所'] = df.営業名.map(branch_f)"
   ]
  },
  {
   "cell_type": "code",
   "execution_count": null,
   "metadata": {
    "scrolled": true
   },
   "outputs": [],
   "source": [
    "df.head()"
   ]
  },
  {
   "cell_type": "code",
   "execution_count": null,
   "metadata": {},
   "outputs": [],
   "source": []
  },
  {
   "cell_type": "markdown",
   "metadata": {},
   "source": [
    "素材分類追加"
   ]
  },
  {
   "cell_type": "code",
   "execution_count": null,
   "metadata": {},
   "outputs": [],
   "source": [
    "# 最新素材データ読み込み\n",
    "sozai = pd.read_csv('./map_csv/' + 'sozai.csv', encoding='utf-8')\n",
    "\n",
    "# 最新素材分類を辞書型に変換\n",
    "sozai_f = dict(zip(sozai['素材名'], sozai['材料']))\n",
    "      \n",
    "# 新型式分類\n",
    "df['材料'] = df.素材名.map(sozai_f)"
   ]
  },
  {
   "cell_type": "code",
   "execution_count": null,
   "metadata": {},
   "outputs": [],
   "source": [
    "df.head()"
   ]
  },
  {
   "cell_type": "code",
   "execution_count": null,
   "metadata": {},
   "outputs": [],
   "source": []
  },
  {
   "cell_type": "code",
   "execution_count": null,
   "metadata": {},
   "outputs": [],
   "source": []
  },
  {
   "cell_type": "code",
   "execution_count": null,
   "metadata": {},
   "outputs": [],
   "source": []
  },
  {
   "cell_type": "code",
   "execution_count": null,
   "metadata": {},
   "outputs": [],
   "source": []
  },
  {
   "cell_type": "code",
   "execution_count": null,
   "metadata": {},
   "outputs": [],
   "source": []
  },
  {
   "cell_type": "code",
   "execution_count": null,
   "metadata": {
    "scrolled": false
   },
   "outputs": [],
   "source": []
  },
  {
   "cell_type": "code",
   "execution_count": null,
   "metadata": {},
   "outputs": [],
   "source": [
    "df.to_csv('df_PowerBI.csv',encoding='utf-8' ,index=None)"
   ]
  },
  {
   "cell_type": "code",
   "execution_count": null,
   "metadata": {},
   "outputs": [],
   "source": [
    "PowerBI_df = pd.read_csv('df_PowerBI.csv',encoding='utf-8',encoding='utf-8')\n",
    "PowerBI_df"
   ]
  },
  {
   "cell_type": "code",
   "execution_count": null,
   "metadata": {},
   "outputs": [],
   "source": [
    "PowerBI_df.info()"
   ]
  },
  {
   "cell_type": "code",
   "execution_count": null,
   "metadata": {
    "scrolled": false
   },
   "outputs": [],
   "source": [
    "PowerBI_df.isnull().sum()"
   ]
  },
  {
   "cell_type": "code",
   "execution_count": null,
   "metadata": {},
   "outputs": [],
   "source": []
  },
  {
   "cell_type": "code",
   "execution_count": null,
   "metadata": {},
   "outputs": [],
   "source": []
  },
  {
   "cell_type": "code",
   "execution_count": null,
   "metadata": {},
   "outputs": [],
   "source": []
  },
  {
   "cell_type": "code",
   "execution_count": null,
   "metadata": {},
   "outputs": [],
   "source": []
  },
  {
   "cell_type": "code",
   "execution_count": null,
   "metadata": {},
   "outputs": [],
   "source": []
  },
  {
   "cell_type": "code",
   "execution_count": null,
   "metadata": {},
   "outputs": [],
   "source": []
  },
  {
   "cell_type": "code",
   "execution_count": null,
   "metadata": {},
   "outputs": [],
   "source": []
  },
  {
   "cell_type": "code",
   "execution_count": null,
   "metadata": {},
   "outputs": [],
   "source": []
  },
  {
   "cell_type": "code",
   "execution_count": null,
   "metadata": {},
   "outputs": [],
   "source": []
  },
  {
   "cell_type": "code",
   "execution_count": null,
   "metadata": {},
   "outputs": [],
   "source": []
  },
  {
   "cell_type": "code",
   "execution_count": 2,
   "metadata": {},
   "outputs": [],
   "source": [
    "def Companyanalysis():\n",
    "\n",
    "    import pandas as pd\n",
    "    import numpy as np\n",
    "    # from matplotlib import pyplot as plt\n",
    "    import time\n",
    "    from datetime import datetime\n",
    "\n",
    "    # Original.csv読み込み\n",
    "    df = pd.read_csv('df_original.csv',encoding='utf-8',dtype={'レンタル区分': str, '展覧会名': str ,'委託商品区分': str})\n",
    "\n",
    "    # カラム抽出\n",
    "    df = df[['営業名', '得意先', '出荷日', '伝票№', '素材名', '製品名', '受注金額', '重量']].copy()\n",
    "\n",
    "    # カラムリネーム\n",
    "    df = df.rename(columns={'得意先':'得意先名','受注金額':'売上金額'})\n",
    "\n",
    "    # カラム「営業名」を変換\n",
    "    df [\"営業名\"] = df[\"営業名\"] .apply(lambda x: x.split(\" / \")[0])\n",
    "\n",
    "    # カラム「出荷日」を日付フォーマットに変換\n",
    "    time = df[\"出荷日\"]\n",
    "    time2 = pd.to_datetime(time, format='%Y%m%d')\n",
    "    time3 = time2.dt.year\n",
    "    df[\"year\"] = time3\n",
    "\n",
    "    # 不要金額削除\n",
    "    df = df[df['伝票№'] != 2101624]\n",
    "    df = df[df['伝票№'] != 2101621]\n",
    "\n",
    "\n",
    "\n",
    "    # 生産地分類追加\n",
    "    # 最新生産地データ読み込み\n",
    "    produce = pd.read_csv('./map_csv/' + 'produce.csv', encoding='utf-8')\n",
    "\n",
    "    # 最新生産地分類を辞書型に変換\n",
    "    produce_f = dict(zip(produce['0'], produce['1']))\n",
    "\n",
    "    # 新型式分類\n",
    "    df['生産地'] = df['製品名'].map(produce_f)\n",
    "\n",
    "\n",
    "\n",
    "    # 営業所分類追加\n",
    "    # 最新営業所データ読み込み\n",
    "    branch = pd.read_csv('./map_csv/' + 'branch.csv', encoding='utf-8')\n",
    "\n",
    "    # 最新営業所分類を辞書型に変換\n",
    "    branch_f = dict(zip(branch['担当営業'], branch['営業所']))\n",
    "\n",
    "    # 新営業所分類\n",
    "    df['営業所'] = df.営業名.map(branch_f)\n",
    "\n",
    "\n",
    "\n",
    "    # 最新素材データ読み込み\n",
    "    sozai = pd.read_csv('./map_csv/' + 'sozai.csv', encoding='utf-8')\n",
    "\n",
    "    # 最新素材分類を辞書型に変換\n",
    "    sozai_f = dict(zip(sozai['素材名'], sozai['材料']))\n",
    "\n",
    "    # 新型式分類\n",
    "    df['材料'] = df.素材名.map(sozai_f)\n",
    "\n",
    "\n",
    "    # df_PowerBI.csvを書き出し\n",
    "    df.to_csv('df_PowerBI.csv',encoding='utf-8' ,index=None)\n",
    "    \n",
    "    \n",
    "Companyanalysis()"
   ]
  },
  {
   "cell_type": "code",
   "execution_count": null,
   "metadata": {},
   "outputs": [],
   "source": []
  },
  {
   "cell_type": "markdown",
   "metadata": {},
   "source": [
    "ファイルのアプリ化"
   ]
  },
  {
   "cell_type": "code",
   "execution_count": 5,
   "metadata": {},
   "outputs": [
    {
     "ename": "SyntaxError",
     "evalue": "invalid syntax (<ipython-input-5-cc3c763dea83>, line 1)",
     "output_type": "error",
     "traceback": [
      "\u001b[0;36m  File \u001b[0;32m\"<ipython-input-5-cc3c763dea83>\"\u001b[0;36m, line \u001b[0;32m1\u001b[0m\n\u001b[0;31m    pyinstaller Original_to_PowerBI_conversion.py --noconsole --onefile\u001b[0m\n\u001b[0m                ^\u001b[0m\n\u001b[0;31mSyntaxError\u001b[0m\u001b[0;31m:\u001b[0m invalid syntax\n"
     ]
    }
   ],
   "source": [
    "pyinstaller Original_to_PowerBI_conversion.py --noconsole --onefile"
   ]
  },
  {
   "cell_type": "code",
   "execution_count": null,
   "metadata": {},
   "outputs": [],
   "source": []
  }
 ],
 "metadata": {
  "kernelspec": {
   "display_name": "Python 3",
   "language": "python",
   "name": "python3"
  },
  "language_info": {
   "codemirror_mode": {
    "name": "ipython",
    "version": 3
   },
   "file_extension": ".py",
   "mimetype": "text/x-python",
   "name": "python",
   "nbconvert_exporter": "python",
   "pygments_lexer": "ipython3",
   "version": "3.8.3"
  }
 },
 "nbformat": 4,
 "nbformat_minor": 4
}
